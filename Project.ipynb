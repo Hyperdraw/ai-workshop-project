{
  "nbformat": 4,
  "nbformat_minor": 0,
  "metadata": {
    "colab": {
      "name": "Project.ipynb",
      "provenance": [],
      "authorship_tag": "ABX9TyMrvGBFkQ+kX8JMA39v3XAW"
    },
    "kernelspec": {
      "name": "python3",
      "display_name": "Python 3"
    },
    "language_info": {
      "name": "python"
    }
  },
  "cells": [
    {
      "cell_type": "markdown",
      "source": [
        "# AI Workshop Project"
      ],
      "metadata": {
        "id": "hSYNaXrozL_9"
      }
    },
    {
      "cell_type": "code",
      "execution_count": null,
      "metadata": {
        "id": "AUWlvc_SzJuz"
      },
      "outputs": [],
      "source": [
        "# This notebook will contain the main code for the project"
      ]
    }
  ]
}