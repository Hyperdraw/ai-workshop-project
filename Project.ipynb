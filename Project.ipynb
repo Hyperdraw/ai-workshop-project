{
  "nbformat": 4,
  "nbformat_minor": 0,
  "metadata": {
    "colab": {
      "name": "Project.ipynb",
      "provenance": [],
      "authorship_tag": "ABX9TyMyhlzPTBnfTgwcHByCzCi3"
    },
    "kernelspec": {
      "name": "python3",
      "display_name": "Python 3"
    },
    "language_info": {
      "name": "python"
    }
  },
  "cells": [
    {
      "cell_type": "markdown",
      "source": [
        "# AI Workshop Project"
      ],
      "metadata": {
        "id": "hSYNaXrozL_9"
      }
    },
    {
      "cell_type": "code",
      "source": [
        "import random\n",
        "import numpy as np"
      ],
      "metadata": {
        "id": "zwrWqFn21s96"
      },
      "execution_count": 4,
      "outputs": []
    },
    {
      "cell_type": "code",
      "source": [
        "def reinforcement(env, model, n_games=1, epochs=1, epsilon_decrease=0.1, backsight=8):\n",
        "  epsilon = 1\n",
        "  state_history = []\n",
        "  value_history = []\n",
        "  obs = env.observation_space.sample()\n",
        "\n",
        "  for game_number in range(n_games):\n",
        "    states = []\n",
        "    actions = []\n",
        "    values = []\n",
        "    memory = [obs] * backsight\n",
        "    frames = 0\n",
        "\n",
        "    while True:\n",
        "      if random.rand() > epsilon:\n",
        "        action = np.argmax(model.predict(np.array([memory]))[0])\n",
        "      else:\n",
        "        action = env.action_space.sample()\n",
        "\n",
        "      actions.append(action)\n",
        "      states.append(memory)\n",
        "      values.append([0] * env.action_space.n)\n",
        "      obs, reward, done = env.step(action)\n",
        "      memory.pop(0)\n",
        "      memory.append(obs)\n",
        "\n",
        "      for i, scores in enumerate(values):\n",
        "        scores[actions[i]] += reward\n",
        "      \n",
        "      frames += 1\n",
        "      \n",
        "      if done:\n",
        "        print('Game', game_number, 'lasted', frames, 'frames')\n",
        "        break\n",
        "    \n",
        "    state_history.extend(states)\n",
        "    value_history.extend(values)\n",
        "    model.fit(np.array(state_history), np.array(value_history))\n",
        "    epsilon = max(0, epsilon - epsilon_decrease)"
      ],
      "metadata": {
        "id": "pnvRSJlezg97"
      },
      "execution_count": 8,
      "outputs": []
    }
  ]
}