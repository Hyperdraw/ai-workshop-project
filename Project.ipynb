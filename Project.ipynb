{
  "nbformat": 4,
  "nbformat_minor": 0,
  "metadata": {
    "colab": {
      "name": "Project.ipynb",
      "provenance": []
    },
    "kernelspec": {
      "name": "python3",
      "display_name": "Python 3"
    },
    "language_info": {
      "name": "python"
    }
  },
  "cells": [
    {
      "cell_type": "markdown",
      "source": [
        "# AI Workshop Project"
      ],
      "metadata": {
        "id": "hSYNaXrozL_9"
      }
    },
    {
      "cell_type": "code",
      "execution_count": null,
      "metadata": {
        "id": "AUWlvc_SzJuz"
      },
      "outputs": [],
      "source": [
        "# This notebook will contain the main code for the project"
      ]
    },
    {
      "cell_type": "markdown",
      "source": [
        "Sequential model"
      ],
      "metadata": {
        "id": "Bx_7JAVLzDps"
      }
    },
    {
      "cell_type": "code",
      "source": [
        "from tensorflow import keras\n",
        "from tensorflow.keras.models import Sequential\n",
        "from tensorflow.keras.layers import Conv2D\n",
        "from tensorflow.keras.layers import Reshape\n",
        "from tensorflow.keras.layers import LSTM\n",
        "def cur_model(num_Conv2D,num_filters,num_kernel,num_lstm_units,num_frames):\n",
        "  model = Sequential()\n",
        "  for i in range(num_Conv2D):\n",
        "    model.add(Conv2D(num_filters, num_kernel, activation ='relu'))\n",
        "  model.add(Reshape((num_frames, -1)))\n",
        "  model.add(LSTM(num_lstm_units))"
      ],
      "metadata": {
        "id": "t15vpcUpzDLb"
      },
      "execution_count": null,
      "outputs": []
    }
  ]
}