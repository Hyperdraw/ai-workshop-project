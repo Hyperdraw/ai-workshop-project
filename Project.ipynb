{
  "nbformat": 4,
  "nbformat_minor": 0,
  "metadata": {
    "colab": {
      "name": "Project.ipynb",
      "provenance": [],
      "include_colab_link": true
    },
    "kernelspec": {
      "name": "python3",
      "display_name": "Python 3"
    },
    "language_info": {
      "name": "python"
    }
  },
  "cells": [
    {
      "cell_type": "markdown",
      "metadata": {
        "id": "view-in-github",
        "colab_type": "text"
      },
      "source": [
        "<a href=\"https://colab.research.google.com/github/Hyperdraw/ai-workshop-project/blob/dev/Project.ipynb\" target=\"_parent\"><img src=\"https://colab.research.google.com/assets/colab-badge.svg\" alt=\"Open In Colab\"/></a>"
      ]
    },
    {
      "cell_type": "markdown",
      "source": [
        "# AI Workshop Project"
      ],
      "metadata": {
        "id": "hSYNaXrozL_9"
      }
    },
    {
      "cell_type": "code",
      "execution_count": null,
      "metadata": {
        "id": "AUWlvc_SzJuz"
      },
      "outputs": [],
      "source": [
        "# This notebook will contain the main code for the project"
      ]
    },
    {
      "cell_type": "markdown",
      "source": [
        "Sequential model"
      ],
      "metadata": {
        "id": "Bx_7JAVLzDps"
      }
    },
    {
      "cell_type": "code",
      "source": [
        "from tensorflow import keras\n",
        "from tensorflow.keras.models import Sequential\n",
        "from tensorflow.keras.layers import Conv2D\n",
        "def cur_model(num_Conv2D,num_filters,num_kernel):\n",
        "  model = Sequential()\n",
        "  for i in range(num_Conv2D):\n",
        "    model.add(Conv2D(num_filters, num_kernel, activation ='relu'))\n"
      ],
      "metadata": {
        "id": "t15vpcUpzDLb"
      },
      "execution_count": 6,
      "outputs": []
    }
  ]
}