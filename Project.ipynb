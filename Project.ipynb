{
  "nbformat": 4,
  "nbformat_minor": 0,
  "metadata": {
    "colab": {
      "name": "Project.ipynb",
      "provenance": [],
      "include_colab_link": true
    },
    "kernelspec": {
      "name": "python3",
      "display_name": "Python 3"
    },
    "language_info": {
      "name": "python"
    }
  },
  "cells": [
    {
      "cell_type": "markdown",
      "metadata": {
        "id": "view-in-github",
        "colab_type": "text"
      },
      "source": [
        "<a href=\"https://colab.research.google.com/github/Hyperdraw/ai-workshop-project/blob/dev/Project.ipynb\" target=\"_parent\"><img src=\"https://colab.research.google.com/assets/colab-badge.svg\" alt=\"Open In Colab\"/></a>"
      ]
    },
    {
      "cell_type": "markdown",
      "source": [
        "# AI Workshop Project"
      ],
      "metadata": {
        "id": "hSYNaXrozL_9"
      }
    },
    {
      "cell_type": "code",
      "execution_count": 1,
      "metadata": {
        "id": "AUWlvc_SzJuz"
      },
      "outputs": [],
      "source": [
        "import random\n",
        "import numpy as np\n",
        "from tensorflow import keras\n",
        "from tensorflow.keras.models import Sequential\n",
        "from tensorflow.keras.layers import Conv2D\n",
        "from tensorflow.keras.layers import Reshape\n",
        "from tensorflow.keras.layers import LSTM"
      ]
    },
    {
      "cell_type": "markdown",
      "source": [
        "Sequential model"
      ],
      "metadata": {
        "id": "Bx_7JAVLzDps"
      }
    },
    {
      "cell_type": "code",
      "source": [
        "def cur_model(num_Conv2D,num_filters,num_kernel,num_lstm_units,num_frames):\n",
        "  model = Sequential()\n",
        "  for i in range(num_Conv2D):\n",
        "    model.add(Conv2D(num_filters, num_kernel, activation ='relu'))\n",
        "  model.add(Reshape((num_frames, -1)))\n",
        "  model.add(LSTM(num_lstm_units))"
      ],
      "metadata": {
        "id": "t15vpcUpzDLb"
      },
      "execution_count": 2,
      "outputs": []
    },
    {
      "cell_type": "code",
      "source": [
        "def reinforcement(env, model, n_games=1, epochs=1, epsilon_decrease=0.1, backsight=8):\n",
        "  epsilon = 1\n",
        "  state_history = []\n",
        "  value_history = []\n",
        "  obs = env.observation_space.sample()\n",
        "\n",
        "  for game_number in range(n_games):\n",
        "    states = []\n",
        "    actions = []\n",
        "    values = []\n",
        "    memory = [obs] * backsight\n",
        "    frames = 0\n",
        "\n",
        "    while True:\n",
        "      if random.rand() > epsilon:\n",
        "        action = np.argmax(model.predict(np.array([memory]))[0])\n",
        "      else:\n",
        "        action = env.action_space.sample()\n",
        "\n",
        "      actions.append(action)\n",
        "      states.append(memory)\n",
        "      values.append([0] * env.action_space.n)\n",
        "      obs, reward, done = env.step(action)\n",
        "      memory.pop(0)\n",
        "      memory.append(obs)\n",
        "\n",
        "      for i, scores in enumerate(values):\n",
        "        scores[actions[i]] += reward\n",
        "      \n",
        "      frames += 1\n",
        "      \n",
        "      if done:\n",
        "        print('Game', game_number, 'lasted', frames, 'frames')\n",
        "        break\n",
        "    \n",
        "    state_history.extend(states)\n",
        "    value_history.extend(values)\n",
        "    model.fit(np.array(state_history), np.array(value_history))\n",
        "    epsilon = max(0, epsilon - epsilon_decrease)"
      ],
      "metadata": {
        "id": "HXionOnc-6WG"
      },
      "execution_count": 3,
      "outputs": []
    }
  ]
}